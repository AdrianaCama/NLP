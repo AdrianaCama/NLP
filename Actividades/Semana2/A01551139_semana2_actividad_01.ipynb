{
 "cells": [
  {
   "cell_type": "markdown",
   "metadata": {
    "colab_type": "text",
    "id": "view-in-github"
   },
   "source": [
    "<a href=\"https://colab.research.google.com/github/AdrianaCama/NLP-Actividades/blob/main/A01551139_semana2_actividad_01.ipynb\" target=\"_parent\"><img src=\"https://colab.research.google.com/assets/colab-badge.svg\" alt=\"Open In Colab\"/></a>"
   ]
  },
  {
   "cell_type": "markdown",
   "metadata": {
    "id": "759SG4TyfbUn"
   },
   "source": [
    "#**Maestría en Inteligencia Artificial Aplicada**\n",
    "##**Curso: Procesamiento de Lenguaje Natural (NLP)**\n",
    "###Tecnológico de Monterrey\n",
    "###Prof Luis Eduardo Falcón Morales\n",
    "\n",
    "## **Adtividad de la Semana 02**\n",
    "###**Introducción al procesamiento de texto.**"
   ]
  },
  {
   "cell_type": "markdown",
   "metadata": {
    "id": "6ue1YAKx3XDo"
   },
   "source": [
    "En esta actividad deberás utilizar los datos del siguiente archivo que se encuentra en Canvas:\n",
    "\n",
    "MNA_NLP_semana_02_Actividad_datos.txt\n",
    "\n",
    "El archivo contiene comentarios en inglés sobre servicios de comida de la página de Yelp: https://www.yelp.com/ . \n",
    "\n",
    "Son mil comentarios y forman parte del conjunto de datos que se encuentra en el Machine Learning Repository de la UCI, llamado \"Sentiment Labelled Sentences\": https://archive.ics.uci.edu/ml/datasets/Sentiment+Labelled+Sentences#\n"
   ]
  },
  {
   "cell_type": "markdown",
   "metadata": {
    "id": "Zj-h4drXD-X9"
   },
   "source": [
    "#**Parte 1. Cargamos los datos.**   "
   ]
  },
  {
   "cell_type": "markdown",
   "metadata": {
    "id": "BY6yifxscfrx"
   },
   "source": [
    "Cargar los datos del archivo indicado y obtener una lista de longitud de 1000 strings/comentarios. \n",
    "\n",
    "Por el momento solamente requerimos las bibliotecas de Numpy y re, para el manejo de los arreglos y de las expresiones regulares en Python.\n",
    "\n",
    "En particular, no necesitarás en esta actividad la biblioteca de Pandas.\n",
    "\n",
    "###**NOTA: En esta actividad no debes importar nada más, con estas dos bibliotecas será *suficiente*.**"
   ]
  },
  {
   "cell_type": "code",
   "execution_count": 13,
   "metadata": {
    "id": "OJ26dAfhdFnf"
   },
   "outputs": [],
   "source": [
    "import numpy as np    # importamos Numpy para el manejo de los arreglos.\n",
    "import re             # importamos re para el manejo de las expresiones regulares."
   ]
  },
  {
   "cell_type": "code",
   "execution_count": 14,
   "metadata": {
    "id": "QHUmJyjDdGNP"
   },
   "outputs": [],
   "source": [
    "# Ejecuta las siguientes instrucciones para cargar la información del achivo dado:\n",
    "\n",
    "with open('MNA_NLP_semana_02_Actividad_datos.txt',        # puedes actualizar la ruta a tu archivo, en dado caso.\n",
    "          mode='r',     # abrimos el archivo en modo lectura.\n",
    "          ) as f:\n",
    "    docs = f.readlines()    # separamos cada comentario por líneas\n",
    "\n",
    "f.close()  # ya que tenemos la información en la variable docs, cerramos el archivo"
   ]
  },
  {
   "cell_type": "code",
   "execution_count": 15,
   "metadata": {
    "id": "L6WzrSrodG-Y"
   },
   "outputs": [
    {
     "data": {
      "text/plain": [
       "True"
      ]
     },
     "execution_count": 4,
     "metadata": {},
     "output_type": "execute_result"
    }
   ],
   "source": [
    "type(docs) == list   # Verifica que tu variable \"docs\" es una lista"
   ]
  },
  {
   "cell_type": "code",
   "execution_count": 16,
   "metadata": {
    "id": "QIK1u9WS2FtS"
   },
   "outputs": [
    {
     "data": {
      "text/plain": [
       "True"
      ]
     },
     "execution_count": 5,
     "metadata": {},
     "output_type": "execute_result"
    }
   ],
   "source": [
    "len(docs)==1000  # verifica que la longitud de \"docs\" es de mil comentarios."
   ]
  },
  {
   "cell_type": "code",
   "execution_count": 17,
   "metadata": {
    "id": "9AMLIfQvJqNZ"
   },
   "outputs": [
    {
     "data": {
      "text/plain": [
       "['Wow... Loved this place.\\n',\n",
       " 'Crust is not good.\\n',\n",
       " 'Not tasty and the texture was just nasty.\\n',\n",
       " 'Stopped by during the late May bank holiday off Rick Steve recommendation and loved it.\\n',\n",
       " 'The selection on the menu was great and so were the prices.\\n',\n",
       " 'Now I am getting angry and I want my damn pho.\\n',\n",
       " \"Honeslty it didn't taste THAT fresh.)\\n\",\n",
       " 'The potatoes were like rubber and you could tell they had been made up ahead of time being kept under a warmer.\\n',\n",
       " 'The fries were great too.\\n',\n",
       " 'A great touch.\\n']"
      ]
     },
     "execution_count": 6,
     "metadata": {},
     "output_type": "execute_result"
    }
   ],
   "source": [
    "docs[0:10]     # observa algunos de los primeros comentarios"
   ]
  },
  {
   "cell_type": "markdown",
   "metadata": {
    "id": "k_ewoagic5jc"
   },
   "source": [
    "#**Parte 2: sección de preguntas (regex).**   \n"
   ]
  },
  {
   "cell_type": "markdown",
   "metadata": {
    "id": "X-eMJa3DFCIV"
   },
   "source": [
    "##**Instrucciones:**\n",
    "\n",
    "###**A continuación deberás contestar cada una de las preguntas que te piden usando expresiones regulares (regex).**\n",
    "\n",
    "###**Por el momento no hay restricción en cuanto al número de líneas de código que agregues, pero trata de incluir las mínimas posibles.**"
   ]
  },
  {
   "cell_type": "markdown",
   "metadata": {
    "id": "78nJMemzn5a5"
   },
   "source": [
    "*   **Pregunta 1.** \n",
    "\n",
    "Busca y elimina todos los saltos de línea '\\n' que se encuentran al final de cada comentario. \n",
    "\n",
    "Una vez finalizado, imprime los primeros 10 comentarios del resultado obtenido.\n"
   ]
  },
  {
   "cell_type": "code",
   "execution_count": 21,
   "metadata": {
    "id": "PwbYYIuZn8pE"
   },
   "outputs": [],
   "source": [
    "pregunta1 = [x.strip('\\n') for x in docs]"
   ]
  },
  {
   "cell_type": "code",
   "execution_count": 22,
   "metadata": {
    "id": "j-0qeh2Jn8l1"
   },
   "outputs": [
    {
     "data": {
      "text/plain": [
       "['Wow... Loved this place.',\n",
       " 'Crust is not good.',\n",
       " 'Not tasty and the texture was just nasty.',\n",
       " 'Stopped by during the late May bank holiday off Rick Steve recommendation and loved it.',\n",
       " 'The selection on the menu was great and so were the prices.',\n",
       " 'Now I am getting angry and I want my damn pho.',\n",
       " \"Honeslty it didn't taste THAT fresh.)\",\n",
       " 'The potatoes were like rubber and you could tell they had been made up ahead of time being kept under a warmer.',\n",
       " 'The fries were great too.',\n",
       " 'A great touch.']"
      ]
     },
     "execution_count": 8,
     "metadata": {},
     "output_type": "execute_result"
    }
   ],
   "source": [
    "pregunta1[:10]"
   ]
  },
  {
   "cell_type": "markdown",
   "metadata": {
    "id": "VWeKQC93ctEo"
   },
   "source": [
    "*   **Pregunta 2.**  \n",
    "\n",
    "Busca e imprime todas las palabras que terminan con dos o más signos de admiración seguidos, por ejemplo \"!!!\". \n",
    "\n",
    "Debes imprimir tanto la palabra como la totalidad de signos de admiración que le siguen. \n",
    "\n",
    "Indica cuántos resultados obtuviste.\n",
    "\n"
   ]
  },
  {
   "cell_type": "code",
   "execution_count": 35,
   "metadata": {
    "id": "0p3kMXfddICc"
   },
   "outputs": [
    {
     "data": {
      "text/plain": [
       "['Firehouse!!!!!',\n",
       " 'APPETIZERS!!!',\n",
       " 'amazing!!!',\n",
       " 'buffet!!!',\n",
       " 'good!!',\n",
       " 'it!!!!',\n",
       " 'DELICIOUS!!',\n",
       " 'amazing!!',\n",
       " 'shawarrrrrrma!!!!!!',\n",
       " 'yucky!!!',\n",
       " 'steak!!!!!',\n",
       " 'delicious!!!',\n",
       " 'far!!',\n",
       " 'biscuits!!!',\n",
       " 'dry!!',\n",
       " 'disappointing!!!',\n",
       " 'awesome!!',\n",
       " 'Up!!',\n",
       " 'FLY!!!!!!!!',\n",
       " 'here!!!',\n",
       " 'great!!!!!!!!!!!!!!',\n",
       " 'packed!!',\n",
       " 'otherwise!!',\n",
       " 'amazing!!!!!!!!!!!!!!!!!!!',\n",
       " 'style!!',\n",
       " 'disappointed!!']"
      ]
     },
     "execution_count": 35,
     "metadata": {},
     "output_type": "execute_result"
    }
   ],
   "source": [
    "import re\n",
    "pregunta2 = re.findall(r\"\\w+!{2,}\", ' '.join(docs))\n",
    "pregunta2"
   ]
  },
  {
   "cell_type": "code",
   "execution_count": 36,
   "metadata": {
    "id": "SPVM1MCWdH6Z"
   },
   "outputs": [
    {
     "name": "stdout",
     "output_type": "stream",
     "text": [
      "Se obtuvieron 26 palabras\n"
     ]
    }
   ],
   "source": [
    "print('Se obtuvieron ' + str(len(pregunta2)) + ' palabras')"
   ]
  },
  {
   "cell_type": "markdown",
   "metadata": {
    "id": "-s3okBqL96TT"
   },
   "source": [
    "*   **Pregunta 3.**  \n",
    "\n",
    "Busca e imprime todas las palabras que están escritas totalmente en mayúsculas. Cada coincidencia debe ser una sola palabra.\n",
    "\n",
    "Indica cuántas palabras encontraste.\n",
    "\n"
   ]
  },
  {
   "cell_type": "code",
   "execution_count": 41,
   "metadata": {
    "id": "yKHJkZKo_nW5"
   },
   "outputs": [
    {
     "data": {
      "text/plain": [
       "['I ',\n",
       " 'I ',\n",
       " 'THAT ',\n",
       " 'A ',\n",
       " 'I ',\n",
       " 'I ',\n",
       " 'I ',\n",
       " 'I ',\n",
       " 'I ',\n",
       " 'I ',\n",
       " 'I ',\n",
       " 'I ',\n",
       " 'I ',\n",
       " 'I ',\n",
       " 'I ',\n",
       " 'I ',\n",
       " 'APPETIZERS!',\n",
       " 'A ',\n",
       " 'I ',\n",
       " 'I ',\n",
       " 'I ',\n",
       " \"I'\",\n",
       " 'I ',\n",
       " 'I ',\n",
       " 'I ',\n",
       " 'WILL ',\n",
       " 'NEVER ',\n",
       " 'EVER ',\n",
       " 'STEP ',\n",
       " 'FORWARD ',\n",
       " 'IN ',\n",
       " 'IT ',\n",
       " 'AGAIN!',\n",
       " 'I ',\n",
       " 'LOVED ',\n",
       " 'I ',\n",
       " 'AND ',\n",
       " 'REAL ',\n",
       " \"I'\",\n",
       " 'I ',\n",
       " 'I ',\n",
       " 'I ',\n",
       " 'BITCHES!',\n",
       " 'I ',\n",
       " \"I'\",\n",
       " 'I ',\n",
       " \"I'\",\n",
       " 'NYC ',\n",
       " 'I ',\n",
       " 'I ',\n",
       " 'I ',\n",
       " 'I ',\n",
       " 'I ',\n",
       " 'I ',\n",
       " \"I'\",\n",
       " 'STALE.',\n",
       " 'I ',\n",
       " 'I ',\n",
       " 'DELICIOUS!',\n",
       " \"I'\",\n",
       " 'I ',\n",
       " \"I'\",\n",
       " 'I ',\n",
       " 'I ',\n",
       " 'I ',\n",
       " 'I ',\n",
       " 'I ',\n",
       " 'I ',\n",
       " \"I'\",\n",
       " \"I'\",\n",
       " 'I ',\n",
       " 'I ',\n",
       " \"I'\",\n",
       " \"I'\",\n",
       " 'WORST ',\n",
       " 'EXPERIENCE ',\n",
       " 'EVER.',\n",
       " 'I ',\n",
       " 'ALL ',\n",
       " 'I ',\n",
       " 'BARGAIN!',\n",
       " 'I ',\n",
       " \"TV'\",\n",
       " 'NONE ',\n",
       " \"I'\",\n",
       " \"M'\",\n",
       " 'FREEZING ',\n",
       " 'AYCE ',\n",
       " 'I ',\n",
       " 'I ',\n",
       " 'I ',\n",
       " 'I ',\n",
       " 'I ',\n",
       " 'I ',\n",
       " 'I ',\n",
       " 'I ',\n",
       " 'I ',\n",
       " 'I ',\n",
       " 'I ',\n",
       " \"I'\",\n",
       " 'I ',\n",
       " 'FLAVOR!',\n",
       " 'I ',\n",
       " 'I ',\n",
       " 'I ',\n",
       " 'I ',\n",
       " 'I ',\n",
       " 'I ',\n",
       " 'I ',\n",
       " 'I ',\n",
       " 'I ',\n",
       " 'I ',\n",
       " 'I ',\n",
       " 'I ',\n",
       " 'I ',\n",
       " 'I ',\n",
       " 'I ',\n",
       " 'I ',\n",
       " 'I ',\n",
       " 'I ',\n",
       " 'NEVER ',\n",
       " \"I'\",\n",
       " 'I ',\n",
       " 'I ',\n",
       " 'I ',\n",
       " 'BBQ,',\n",
       " \"I'\",\n",
       " 'A ',\n",
       " 'I ',\n",
       " 'UNREAL!',\n",
       " 'I ',\n",
       " \"I'\",\n",
       " 'I ',\n",
       " 'I ',\n",
       " 'I ',\n",
       " 'I ',\n",
       " 'OMG,',\n",
       " \"I'\",\n",
       " 'BETTER.',\n",
       " 'I ',\n",
       " \"I'\",\n",
       " 'BLAND.',\n",
       " 'I ',\n",
       " 'I ',\n",
       " \"I'\",\n",
       " 'I ',\n",
       " 'I ',\n",
       " 'I ',\n",
       " 'I ',\n",
       " 'RUDE ',\n",
       " 'INCONSIDERATE ',\n",
       " 'MANAGEMENT.',\n",
       " 'I ',\n",
       " 'I ',\n",
       " 'WILL ',\n",
       " 'NEVER ',\n",
       " 'EVER ',\n",
       " 'GO ',\n",
       " 'BACK ',\n",
       " 'AND ',\n",
       " 'HAVE ',\n",
       " 'TOLD ',\n",
       " 'MANY ',\n",
       " 'PEOPLE ',\n",
       " 'WHAT ',\n",
       " 'HAD ',\n",
       " 'HAPPENED.',\n",
       " 'I ',\n",
       " 'I ',\n",
       " \"I'\",\n",
       " 'I ',\n",
       " 'I ',\n",
       " \"I'\",\n",
       " 'I ',\n",
       " 'I ',\n",
       " \"I'\",\n",
       " 'I ',\n",
       " 'I ',\n",
       " \"I'\",\n",
       " 'I ',\n",
       " 'TOTAL ',\n",
       " 'WASTE ',\n",
       " 'OF ',\n",
       " 'TIME.',\n",
       " 'I ',\n",
       " 'I ',\n",
       " 'I ',\n",
       " 'I ',\n",
       " 'I ',\n",
       " 'I ',\n",
       " 'I ',\n",
       " 'I ',\n",
       " 'I ',\n",
       " \"I'\",\n",
       " \"I'\",\n",
       " 'I ',\n",
       " 'I ',\n",
       " \"I'\",\n",
       " \"I'\",\n",
       " 'FS ',\n",
       " 'I ',\n",
       " 'I ',\n",
       " 'I ',\n",
       " 'I ',\n",
       " 'I ',\n",
       " 'I ',\n",
       " 'I ',\n",
       " 'I ',\n",
       " 'I ',\n",
       " 'AZ ',\n",
       " 'I ',\n",
       " \"I'\",\n",
       " 'I ',\n",
       " 'I ',\n",
       " 'LOVED ',\n",
       " \"I'\",\n",
       " 'I ',\n",
       " 'I ',\n",
       " 'I ',\n",
       " 'I ',\n",
       " 'I ',\n",
       " 'CONCLUSION:',\n",
       " 'I ',\n",
       " \"I'\",\n",
       " 'I ',\n",
       " 'I ',\n",
       " 'I ',\n",
       " 'I ',\n",
       " 'BEST ',\n",
       " 'I ',\n",
       " 'GO ',\n",
       " 'NOW!',\n",
       " 'A ',\n",
       " 'I ',\n",
       " 'I ',\n",
       " 'GC.',\n",
       " 'I ',\n",
       " 'I ',\n",
       " \"I'\",\n",
       " 'I ',\n",
       " 'I ',\n",
       " 'I ',\n",
       " 'I ',\n",
       " 'I ',\n",
       " 'I ',\n",
       " 'I ',\n",
       " 'I ',\n",
       " 'AVOID ',\n",
       " 'THIS ',\n",
       " 'ESTABLISHMENT!',\n",
       " 'I ',\n",
       " 'I ',\n",
       " 'I ',\n",
       " 'A ',\n",
       " 'I ',\n",
       " 'I ',\n",
       " 'AN ',\n",
       " 'HOUR.',\n",
       " 'I ',\n",
       " 'I ',\n",
       " \"I'\",\n",
       " 'I ',\n",
       " 'I ',\n",
       " 'I ',\n",
       " \"I'\",\n",
       " 'I ',\n",
       " 'NASTY!',\n",
       " 'OMG ',\n",
       " 'I ',\n",
       " 'I ',\n",
       " 'NO ',\n",
       " 'I ',\n",
       " 'I ',\n",
       " 'I ',\n",
       " 'BEST ',\n",
       " 'I ',\n",
       " 'I ',\n",
       " 'I ',\n",
       " 'I ',\n",
       " 'THE ',\n",
       " 'OWNERS ',\n",
       " 'REALLY ',\n",
       " 'REALLY ',\n",
       " 'I ',\n",
       " 'I ',\n",
       " 'I ',\n",
       " 'I ',\n",
       " 'I ',\n",
       " 'I ',\n",
       " 'I ',\n",
       " 'I ',\n",
       " 'I ',\n",
       " 'I ',\n",
       " 'I ',\n",
       " \"I'\",\n",
       " 'PERFECT ',\n",
       " 'SCREAMS ',\n",
       " 'LEGIT\"',\n",
       " 'I ',\n",
       " 'MGM!',\n",
       " 'I ',\n",
       " 'I ',\n",
       " 'I ',\n",
       " 'A ',\n",
       " 'I ',\n",
       " \"I'\",\n",
       " 'I ',\n",
       " 'I ',\n",
       " \"I'\",\n",
       " 'I ',\n",
       " \"I'\",\n",
       " 'I ',\n",
       " 'I ',\n",
       " 'I ',\n",
       " 'I ',\n",
       " 'I ',\n",
       " 'BEST ',\n",
       " 'I ',\n",
       " 'I ',\n",
       " 'T.',\n",
       " 'A ',\n",
       " 'FLY ',\n",
       " 'A ',\n",
       " 'FLY!',\n",
       " 'I ',\n",
       " 'I ',\n",
       " \"I'\",\n",
       " 'I ',\n",
       " 'I ',\n",
       " \"I'\",\n",
       " 'I ',\n",
       " 'I ',\n",
       " 'I ',\n",
       " 'I ',\n",
       " 'I ',\n",
       " 'I ',\n",
       " 'FANTASTIC!',\n",
       " 'I ',\n",
       " \"I'\",\n",
       " \"I'\",\n",
       " 'I ',\n",
       " 'GREAT ',\n",
       " 'OK,',\n",
       " \"I'\",\n",
       " 'I ',\n",
       " 'WAY ',\n",
       " 'I ',\n",
       " \"I'\",\n",
       " 'MUST ',\n",
       " 'HAVE!',\n",
       " 'I ',\n",
       " 'I ',\n",
       " 'I ',\n",
       " \"I'\",\n",
       " 'I ',\n",
       " 'I ',\n",
       " 'OK ',\n",
       " 'I ',\n",
       " 'I ',\n",
       " 'I ',\n",
       " 'I ',\n",
       " 'OVERPRICED!',\n",
       " 'I ',\n",
       " 'I ',\n",
       " \"I'\",\n",
       " 'I ',\n",
       " 'I ',\n",
       " 'I ',\n",
       " 'I ',\n",
       " 'I ',\n",
       " 'I ',\n",
       " 'I ',\n",
       " 'I ',\n",
       " 'I ',\n",
       " 'I ',\n",
       " 'I ',\n",
       " 'I ',\n",
       " 'I ',\n",
       " 'I ',\n",
       " \"I'\",\n",
       " 'I ',\n",
       " 'I ',\n",
       " 'I ',\n",
       " 'I ',\n",
       " 'I ',\n",
       " \"I'\",\n",
       " 'I ',\n",
       " 'BARE ',\n",
       " 'HANDS,',\n",
       " 'I ',\n",
       " \"I'\",\n",
       " 'I ',\n",
       " \"I'\",\n",
       " \"I'\",\n",
       " 'I ',\n",
       " 'I ',\n",
       " 'I ',\n",
       " 'I ',\n",
       " 'I ',\n",
       " 'I ',\n",
       " 'I ',\n",
       " 'I ',\n",
       " 'I ',\n",
       " 'I ',\n",
       " 'WEAK,',\n",
       " 'I ',\n",
       " 'I ',\n",
       " 'I ',\n",
       " \"I'\",\n",
       " 'I ',\n",
       " 'I ',\n",
       " 'I ',\n",
       " 'I ',\n",
       " 'SHOULD ',\n",
       " 'I ',\n",
       " 'I ',\n",
       " 'I ',\n",
       " 'RI ',\n",
       " 'I ',\n",
       " 'I ',\n",
       " 'I ',\n",
       " 'WAAAAAA',\n",
       " 'I ',\n",
       " 'I ',\n",
       " 'I ',\n",
       " 'I ',\n",
       " 'VERY ',\n",
       " \"I'\",\n",
       " 'I ',\n",
       " 'I ',\n",
       " 'NOT ',\n",
       " 'I ',\n",
       " 'I ',\n",
       " 'I ',\n",
       " 'I ',\n",
       " 'I ',\n",
       " 'I ',\n",
       " 'I ',\n",
       " 'I ',\n",
       " 'I ',\n",
       " 'I ',\n",
       " 'I ',\n",
       " 'I ',\n",
       " 'I ',\n",
       " 'I ',\n",
       " 'I ',\n",
       " 'I ',\n",
       " 'I ',\n",
       " 'I ',\n",
       " 'A ',\n",
       " 'I ',\n",
       " 'I ',\n",
       " 'I ',\n",
       " 'I ',\n",
       " 'I ',\n",
       " 'I ']"
      ]
     },
     "execution_count": 41,
     "metadata": {},
     "output_type": "execute_result"
    }
   ],
   "source": [
    "pregunta3 = re.findall(r\"[A-Z]+[^a-z]\", ' '.join(docs))\n",
    "pregunta3"
   ]
  },
  {
   "cell_type": "code",
   "execution_count": 39,
   "metadata": {
    "id": "L3q08aq69sNn"
   },
   "outputs": [
    {
     "name": "stdout",
     "output_type": "stream",
     "text": [
      "Se obtuvieron 456 palabras\n"
     ]
    }
   ],
   "source": [
    "print('Se obtuvieron ' + str(len(pregunta3)) + ' palabras')"
   ]
  },
  {
   "cell_type": "markdown",
   "metadata": {
    "id": "GX8eYyDoMZma"
   },
   "source": [
    "*   **Pregunta 4.**  \n",
    "\n",
    "Busca e imprime los comentarios en donde todos los caracteres alfabéticos (letras) están en mayúsculas. \n",
    "\n",
    "Cada coincidencia encontrada debe ser todo el comentario/enunciado.\n",
    "\n",
    "Indica cuántos resultados obtuviste.\n"
   ]
  },
  {
   "cell_type": "code",
   "execution_count": 32,
   "metadata": {
    "id": "K8VuZxvTMYj6"
   },
   "outputs": [
    {
     "data": {
      "text/plain": [
       "['DELICIOUS!!',\n",
       " 'RUDE & INCONSIDERATE MANAGEMENT.',\n",
       " 'WILL NEVER EVER GO BACK AND HAVE TOLD MANY PEOPLE WHAT HAD HAPPENED.',\n",
       " 'TOTAL WASTE OF TIME.',\n",
       " 'AVOID THIS ESTABLISHMENT!']"
      ]
     },
     "execution_count": 32,
     "metadata": {},
     "output_type": "execute_result"
    }
   ],
   "source": [
    "pregunta4 = [x.strip('\\n') for x in docs if x.isupper()]\n",
    "pregunta4"
   ]
  },
  {
   "cell_type": "code",
   "execution_count": 46,
   "metadata": {
    "id": "PmKgX7sCMcDx"
   },
   "outputs": [
    {
     "name": "stdout",
     "output_type": "stream",
     "text": [
      "Se obtuvieron 5 comentarios\n"
     ]
    }
   ],
   "source": [
    "print('Se obtuvieron ' + str(len(pregunta4)) + ' comentarios')"
   ]
  },
  {
   "cell_type": "markdown",
   "metadata": {
    "id": "a1i6qv7-McmU"
   },
   "source": [
    "*   **Pregunta 5.**  \n",
    "\n",
    "Busca e imprime todas las palabras que tengan una vocal acentuada, del tipo á, é, í, ó, ú. \n",
    "\n",
    "Indica cuántos resultados obtuviste."
   ]
  },
  {
   "cell_type": "code",
   "execution_count": 50,
   "metadata": {
    "id": "nZZ5zKUOMeGD"
   },
   "outputs": [
    {
     "data": {
      "text/plain": [
       "['fiancé', 'Café', 'crêpe', 'puréed']"
      ]
     },
     "execution_count": 50,
     "metadata": {},
     "output_type": "execute_result"
    }
   ],
   "source": [
    "pregunta5 = re.findall(r\"([A-Za-z]*[À-ú]+[a-zA-Z]*)+\", ' '.join(docs))\n",
    "pregunta5"
   ]
  },
  {
   "cell_type": "code",
   "execution_count": 51,
   "metadata": {
    "id": "l1mFvUEZMe8s"
   },
   "outputs": [
    {
     "name": "stdout",
     "output_type": "stream",
     "text": [
      "Se obtuvieron 4 palabas\n"
     ]
    }
   ],
   "source": [
    "print('Se obtuvieron ' + str(len(pregunta5)) + ' palabas')"
   ]
  },
  {
   "cell_type": "markdown",
   "metadata": {
    "id": "ZmPiAI82Mfb3"
   },
   "source": [
    "*   **Pregunta 6.**  \n",
    "\n",
    "Busca e imprime todas las cantidades numéricas monetarias, enteras o con decimales, que inician con el símbolo $\\$$. \n",
    "\n",
    "Indica cuántos resultados obtuviste."
   ]
  },
  {
   "cell_type": "code",
   "execution_count": null,
   "metadata": {
    "id": "6vhe9-Y-MhL9"
   },
   "outputs": [],
   "source": []
  },
  {
   "cell_type": "code",
   "execution_count": null,
   "metadata": {
    "id": "_t0a5xWDMhQ5"
   },
   "outputs": [],
   "source": []
  },
  {
   "cell_type": "markdown",
   "metadata": {
    "id": "2j-HpvhwMhq2"
   },
   "source": [
    "*   **Pregunta 7.**  \n",
    "\n",
    "Busca e imprime todas las palabras que sean variantes de la palabra \"love\", sin importar si incluyen mayúsculas o minúsculas, o la manera en que esté conjugada o alguna otra variación que se haga con dicha palabra.\n",
    "\n",
    "Indica cuántos resultados obtuviste."
   ]
  },
  {
   "cell_type": "code",
   "execution_count": null,
   "metadata": {
    "id": "kqqyRChVMjol"
   },
   "outputs": [],
   "source": []
  },
  {
   "cell_type": "code",
   "execution_count": null,
   "metadata": {
    "id": "UXd0VQluMj_x"
   },
   "outputs": [],
   "source": []
  },
  {
   "cell_type": "markdown",
   "metadata": {
    "id": "Ctb-NTY3MkYG"
   },
   "source": [
    "*   **Pregunta 8.**  \n",
    "\n",
    "Busca e imprime todas las palabras, variantes de \"so\" y \"good\", que tengan dos o más \"o\" en \"so\" y 3 o más \"o\" en good. \n",
    "\n",
    "Indica cuántas encontraste.\n"
   ]
  },
  {
   "cell_type": "code",
   "execution_count": null,
   "metadata": {
    "id": "A8Nf3B_cMlqg"
   },
   "outputs": [],
   "source": []
  },
  {
   "cell_type": "code",
   "execution_count": null,
   "metadata": {
    "id": "svS4-vvPMl6f"
   },
   "outputs": [],
   "source": []
  },
  {
   "cell_type": "markdown",
   "metadata": {
    "id": "hkak1opjMmlk"
   },
   "source": [
    "*   **Pregunta 9.**  \n",
    "\n",
    "Busca e imprime todas las palabras que tengan una longitud mayor estrictamente a 10 caracteres alfabéticos.\n",
    "\n",
    "No se consideran los signos de puntuación o caracteres especiales en la longitud de estas cadenas, solo caracteres alfabéticos en mayúsculas o minúsculas.\n",
    "\n",
    "Indica la cantidad de palabras encontradas.\n"
   ]
  },
  {
   "cell_type": "code",
   "execution_count": null,
   "metadata": {
    "id": "PYxdp3uhMoD0"
   },
   "outputs": [],
   "source": []
  },
  {
   "cell_type": "code",
   "execution_count": null,
   "metadata": {
    "id": "BR7e2F4FMof-"
   },
   "outputs": [],
   "source": []
  },
  {
   "cell_type": "markdown",
   "metadata": {
    "id": "ApjTNzSxMpDc"
   },
   "source": [
    "*   **Pregunta 10.**  \n",
    "\n",
    "Busca e imprime todas las palabras que inician con una letra mayúscula y terminan con una minúscula, pero que además no sea la primera palabra del comentario/string. \n",
    "\n",
    "Indica la cantidad de resultados obtenidos."
   ]
  },
  {
   "cell_type": "code",
   "execution_count": null,
   "metadata": {
    "id": "Vb0ndRGAMqdL"
   },
   "outputs": [],
   "source": []
  },
  {
   "cell_type": "code",
   "execution_count": null,
   "metadata": {
    "id": "dLPTRPnTMqqx"
   },
   "outputs": [],
   "source": []
  },
  {
   "cell_type": "markdown",
   "metadata": {
    "id": "u7nfm4KhMrNW"
   },
   "source": [
    "*   **Pregunta 11.**  \n",
    "\n",
    "Busca e imprime la secuencia de dos o más palabras que están separadas por un guion, \"-\", sin que tengan espacios en blanco entre ellas.\n",
    "\n",
    "Por ejemplo \"Go-Kart\" sería válido, pero \"Go  -Kart\" o \"Go  -  Kart\" no lo serían. \n",
    "\n",
    "Indica la cantidad de resultados obtenidos."
   ]
  },
  {
   "cell_type": "code",
   "execution_count": null,
   "metadata": {
    "id": "OwU-a7eGMsub"
   },
   "outputs": [],
   "source": []
  },
  {
   "cell_type": "code",
   "execution_count": null,
   "metadata": {
    "id": "SgzIL74ZMtGw"
   },
   "outputs": [],
   "source": []
  },
  {
   "cell_type": "markdown",
   "metadata": {
    "id": "DEIgl79HMthr"
   },
   "source": [
    "*   **Pregunta 12.**  \n",
    "\n",
    "Busca e imprime todas las palabras que terminan en \"ing\" o \"ed\". \n",
    "\n",
    "Indica la cantidad de palabras que encontraste de cada una."
   ]
  },
  {
   "cell_type": "code",
   "execution_count": null,
   "metadata": {
    "id": "I4TSofBMMv9y"
   },
   "outputs": [],
   "source": []
  },
  {
   "cell_type": "code",
   "execution_count": null,
   "metadata": {
    "id": "AhGq6De2Mvyh"
   },
   "outputs": [],
   "source": []
  },
  {
   "cell_type": "markdown",
   "metadata": {
    "id": "70StdqAZa9E9"
   },
   "source": [
    "#**Parte 3. Proceso de limpieza.**"
   ]
  },
  {
   "cell_type": "markdown",
   "metadata": {
    "id": "xaDUFXHrMvX2"
   },
   "source": [
    "*   **Pregunta 13.**  \n",
    "\n",
    "Ahora realiza un proceso de limpieza del corpus que incluya los siguientes procesos:\n",
    "\n",
    "*   Solo se deben considerar caracteres alfabéticos. Es decir, se eliminan todos los signos de puntuación y caracteres especiales.\n",
    "*   Todos los caracteres alfabéticos se transforman a minúsculas.\n",
    "*   Se deben eliminar todos los espacios en blanco adicionales que se puedan encontrar en cada comentario.\n",
    "\n",
    "Al finalizar dicho proceso de limpieza, imprime el resultado de los primeros 10 comentarios resultantes. \n",
    "   \n",
    "\n",
    "\n"
   ]
  },
  {
   "cell_type": "code",
   "execution_count": null,
   "metadata": {
    "id": "K3kQzPOPMx0w"
   },
   "outputs": [],
   "source": []
  },
  {
   "cell_type": "code",
   "execution_count": null,
   "metadata": {
    "id": "mYEDlHSFMyJN"
   },
   "outputs": [],
   "source": []
  },
  {
   "cell_type": "markdown",
   "metadata": {
    "id": "WZwEhg2lUSAX"
   },
   "source": [
    "*   **Pregunta 14.**  \n",
    "\n",
    "Con el resultado de la limpieza obtenido en la pregunta anterior, realiza ahora un proceso de tokenización por palabras del corpus. \n",
    "\n",
    "Es decir, al final de este proceso de tokenización, debes tener como resultado una lista de listas, donde cada comentario estará tokenizado por palabras.\n",
    "\n",
    "Al terminar calcula el total de tokens obtenido en todo el corpus. "
   ]
  },
  {
   "cell_type": "code",
   "execution_count": null,
   "metadata": {
    "id": "kbAL9-v0V-jx"
   },
   "outputs": [],
   "source": []
  },
  {
   "cell_type": "code",
   "execution_count": null,
   "metadata": {
    "id": "DZs_etmiV-fd"
   },
   "outputs": [],
   "source": []
  },
  {
   "cell_type": "markdown",
   "metadata": {
    "id": "EFeu0OJ7WDPD"
   },
   "source": [
    "*   **Pregunta 15.**  \n",
    "\n",
    "Finalmente, en este ejercicio definiremos nuestro conjunto de palabras \"stopwords\", las cuales deberás eliminar de todo el corpus. \n",
    "\n",
    "Recuerda que ejemplos de stopwords son artículos, adverbios, conectivos, etcétera, que tienen frecuencias de aparición muy altas en cualquier documento, pero que no brindan mucho significado en cuanto al significado de un enunciado.\n",
    "\n",
    "Con base a la lista de stopwords que se te proporciona, realiza un proceso de limpieza eliminando todas estas palabras del corpus obtenido en el ejercicio anterior.\n",
    "\n",
    "Obtener cuántos tokens/palabras quedan finalmente en todo el corpus.\n",
    "\n",
    "Obtener cuántos de estos tokens/palabras son diferentes, es decir, cuántos tokens únicos tendrá lo que llamaremos más adelante nuestro vocabulario."
   ]
  },
  {
   "cell_type": "code",
   "execution_count": null,
   "metadata": {
    "id": "6FP4FF3KXGxm"
   },
   "outputs": [],
   "source": [
    "# Considera la siguiente lista como tu conjunto de stopwords:\n",
    "mis_stopwords = ['i', 'me', 'my', 'myself', 'we', 'our', 'ours', 'ourselves', 'you', 'your', 'yours', 'he', 'him', 'his', 'himself', 'she', 'her', 'hers', 'herself', 'it', 'its', 'itself', 'they', 'them', 'their', 'theirs', 'themselves', 'what', 'which', 'who', 'whom', 'this', 'that', 'these', 'those', 'am', 'is', 'are', 'was', 'were', 'be', 'been', 'being', 'have', 'has', 'had', 'having', 'do', 'does', 'did', 'doing', 'a', 'an', 'the', 'and', 'but', 'if', 'or', 'because', 'as', 'until', 'while', 'of', 'at', 'by', 'for', 'with', 'about', 'against', 'between', 'into', 'through', 'during', 'before', 'after', 'above', 'below', 'to', 'from', 'up', 'down', 'in', 'out', 'on', 'over', 'under', 'again', 'further', 'then', 'once', 'here', 'there', 'when', 'where', 'why', 'how', 'all', 'any', 'both', 'each', 'few', 'more', 'most', 'other', 'some', 'such', 'only', 'own', 'same', 'so', 'than', 'too', 'very', 's', 't', 'can', 'will', 'just', 'should', 'now', 'll']"
   ]
  },
  {
   "cell_type": "code",
   "execution_count": null,
   "metadata": {
    "id": "CD8yjyq1ZrwY"
   },
   "outputs": [],
   "source": []
  },
  {
   "cell_type": "code",
   "execution_count": null,
   "metadata": {
    "id": "4ZPi5prKZro5"
   },
   "outputs": [],
   "source": []
  },
  {
   "cell_type": "markdown",
   "metadata": {
    "id": "NDbKkuxRbLoX"
   },
   "source": [
    "*   **Comentarios**\n",
    "\n",
    "Incluye finalmente tus comentarios de la actividad."
   ]
  },
  {
   "cell_type": "markdown",
   "metadata": {
    "id": "o7fzbvqVbUGr"
   },
   "source": [
    "<< incluye aquí tus comentarios >>"
   ]
  },
  {
   "cell_type": "markdown",
   "metadata": {
    "id": "PHaKw_6Ldbaf"
   },
   "source": [
    "##**Fin de la Actividad de la semana 2.**"
   ]
  }
 ],
 "metadata": {
  "colab": {
   "collapsed_sections": [
    "759SG4TyfbUn",
    "Zj-h4drXD-X9",
    "BY6yifxscfrx",
    "k_ewoagic5jc",
    "70StdqAZa9E9"
   ],
   "include_colab_link": true,
   "provenance": []
  },
  "kernelspec": {
   "display_name": "Python 3 (ipykernel)",
   "language": "python",
   "name": "python3"
  },
  "language_info": {
   "codemirror_mode": {
    "name": "ipython",
    "version": 3
   },
   "file_extension": ".py",
   "mimetype": "text/x-python",
   "name": "python",
   "nbconvert_exporter": "python",
   "pygments_lexer": "ipython3",
   "version": "3.9.12"
  }
 },
 "nbformat": 4,
 "nbformat_minor": 4
}
